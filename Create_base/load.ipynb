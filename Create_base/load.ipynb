{
 "cells": [
  {
   "cell_type": "code",
   "execution_count": 13,
   "metadata": {},
   "outputs": [
    {
     "name": "stdout",
     "output_type": "stream",
     "text": [
      "Requirement already satisfied: sqlalchemy in c:\\users\\joanm\\onedrive\\escritorio\\university\\5\\etl\\etl_env\\etl\\lib\\site-packages (2.0.28)\n",
      "Requirement already satisfied: typing-extensions>=4.6.0 in c:\\users\\joanm\\onedrive\\escritorio\\university\\5\\etl\\etl_env\\etl\\lib\\site-packages (from sqlalchemy) (4.10.0)\n",
      "Requirement already satisfied: greenlet!=0.4.17 in c:\\users\\joanm\\onedrive\\escritorio\\university\\5\\etl\\etl_env\\etl\\lib\\site-packages (from sqlalchemy) (3.0.3)\n",
      "Requirement already satisfied: mysql-connector-python in c:\\users\\joanm\\onedrive\\escritorio\\university\\5\\etl\\etl_env\\etl\\lib\\site-packages (8.3.0)\n",
      "Requirement already satisfied: python-decouple in c:\\users\\joanm\\onedrive\\escritorio\\university\\5\\etl\\etl_env\\etl\\lib\\site-packages (3.8)\n",
      "Requirement already satisfied: python-dotenv in c:\\users\\joanm\\onedrive\\escritorio\\university\\5\\etl\\etl_env\\etl\\lib\\site-packages (1.0.1)\n"
     ]
    }
   ],
   "source": [
    "!pip install sqlalchemy\n",
    "!pip install mysql-connector-python\n",
    "!pip install python-decouple python-dotenv"
   ]
  },
  {
   "cell_type": "code",
   "execution_count": 15,
   "metadata": {},
   "outputs": [],
   "source": [
    "import Pysqlconnect\n",
    "import pandas as pd"
   ]
  },
  {
   "cell_type": "code",
   "execution_count": 43,
   "metadata": {},
   "outputs": [],
   "source": [
    "df_citas = pd.read_csv(r\"../Datasets/citas.csv\")\n",
    "df_pacientes = pd.read_csv(r\"../Datasets/pacientes.csv\")"
   ]
  },
  {
   "cell_type": "code",
   "execution_count": 39,
   "metadata": {},
   "outputs": [
    {
     "name": "stdout",
     "output_type": "stream",
     "text": [
      "(6707, 6)\n",
      "(6707, 11)\n"
     ]
    }
   ],
   "source": [
    "print(df_citas.shape)\n",
    "print(df_pacientes.shape)"
   ]
  },
  {
   "cell_type": "code",
   "execution_count": 31,
   "metadata": {},
   "outputs": [],
   "source": [
    "import sqlalchemy.types"
   ]
  },
  {
   "cell_type": "code",
   "execution_count": 71,
   "metadata": {},
   "outputs": [
    {
     "data": {
      "text/plain": [
       "6707"
      ]
     },
     "execution_count": 71,
     "metadata": {},
     "output_type": "execute_result"
    }
   ],
   "source": [
    "df_citas.to_sql(\"citas\", con=Pysqlconnect.connection(), if_exists=\"replace\", index=False, dtype={\"number\":sqlalchemy.types.INTEGER()})\n",
    "df_pacientes.to_sql(\"pacientes\", con=Pysqlconnect.connection(), if_exists=\"replace\", index=False, dtype={\"Age\":sqlalchemy.types.INTEGER()})"
   ]
  },
  {
   "cell_type": "code",
   "execution_count": null,
   "metadata": {},
   "outputs": [],
   "source": [
    "\"\"\"\n",
    "ALTER TABLE citas\n",
    "ADD COLUMN id INT AUTO_INCREMENT PRIMARY KEY;\n",
    "\n",
    "ALTER TABLE pacientes\n",
    "ADD COLUMN id INT AUTO_INCREMENT PRIMARY KEY;\n",
    "\"\"\""
   ]
  }
 ],
 "metadata": {
  "kernelspec": {
   "display_name": "etl",
   "language": "python",
   "name": "python3"
  },
  "language_info": {
   "codemirror_mode": {
    "name": "ipython",
    "version": 3
   },
   "file_extension": ".py",
   "mimetype": "text/x-python",
   "name": "python",
   "nbconvert_exporter": "python",
   "pygments_lexer": "ipython3",
   "version": "3.12.0"
  }
 },
 "nbformat": 4,
 "nbformat_minor": 2
}
